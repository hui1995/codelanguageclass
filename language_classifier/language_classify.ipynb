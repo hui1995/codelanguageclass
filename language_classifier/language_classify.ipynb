{
 "cells": [
  {
   "cell_type": "heading",
   "metadata": {
    "collapsed": true
   },
   "level": 1,
   "source": [
    "Part 1 Data prepoccessing\n"
   ]
  },
  {
   "cell_type": "code",
   "execution_count": 13,
   "metadata": {
    "collapsed": true
   },
   "outputs": [],
   "source": [
    "# Import\n",
    "from jianzhi.language_classifier.file_deal import *\n",
    "from jianzhi.language_classifier.word_cut import *\n",
    "from jianzhi.language_classifier.x_generate import *\n",
    "from jianzhi.language_classifier.classifier import *\n",
    "import matplotlib.pyplot as plt\n",
    "import numpy as np\n",
    "import math\n",
    "import copy\n",
    "import json"
   ]
  },
  {
   "cell_type": "code",
   "execution_count": 2,
   "metadata": {
    "collapsed": true
   },
   "outputs": [],
   "source": [
    "# 数据的清洗、格式化，生成DF\n",
    "path = 'C:/Users/yangyujie8/PycharmPr' \\\n",
    "       'ojects/deep_learning/jianzhi/data/language_classifier_data/all_files'\n",
    "get_file('js', \n",
    "         'C:/Users/yangyujie8/PycharmProjects/deep_learning/'\n",
    "         'jianzhi/data/language_classifier_data/node-master', \n",
    "         path)\n",
    "get_file('py', \n",
    "         'C:/Users/yangyujie8/PycharmProjects/deep_learning/'\n",
    "         'jianzhi/data/language_classifier_data/cpython-master', \n",
    "         path)\n",
    "get_file('c', \n",
    "         'C:/Users/yangyujie8/PycharmProjects/deep_learning/'\n",
    "         'jianzhi/data/language_classifier_data/linux-master', \n",
    "         path)\n",
    "get_file('java', \n",
    "         'C:/Users/yangyujie8/PycharmProjects/deep_learning/'\n",
    "         'jianzhi/data/language_classifier_data/guava-master', \n",
    "         path)\n",
    "\n",
    "text_df = file_to_df(path)"
   ]
  },
  {
   "cell_type": "code",
   "execution_count": 3,
   "metadata": {},
   "outputs": [
    {
     "name": "stdout",
     "output_type": "stream",
     "text": [
      "c 258\njava 218\njs 13570\npy 486\n"
     ]
    }
   ],
   "source": [
    "# 观察数据分布，保证测试集的无偏性：每个类别的file数量基本一致，file中内容的长度分布基本一致\n",
    "for t in np.unique(text_df.iloc[:, 1]):\n",
    "    print(t, len(text_df[text_df.iloc[:, 1] == t]))"
   ]
  },
  {
   "cell_type": "code",
   "execution_count": 4,
   "metadata": {},
   "outputs": [
    {
     "name": "stderr",
     "output_type": "stream",
     "text": [
      "C:\\Users\\yangyujie8\\AppData\\Local\\Programs\\Python\\Python37\\lib\\site-packages\\ipykernel_launcher.py:2: SettingWithCopyWarning: \nA value is trying to be set on a copy of a slice from a DataFrame.\nTry using .loc[row_indexer,col_indexer] = value instead\n\nSee the caveats in the documentation: http://pandas.pydata.org/pandas-docs/stable/indexing.html#indexing-view-versus-copy\n  \nC:\\Users\\yangyujie8\\AppData\\Local\\Programs\\Python\\Python37\\lib\\site-packages\\ipykernel_launcher.py:5: SettingWithCopyWarning: \nA value is trying to be set on a copy of a slice from a DataFrame.\nTry using .loc[row_indexer,col_indexer] = value instead\n\nSee the caveats in the documentation: http://pandas.pydata.org/pandas-docs/stable/indexing.html#indexing-view-versus-copy\n  \"\"\"\nC:\\Users\\yangyujie8\\AppData\\Local\\Programs\\Python\\Python37\\lib\\site-packages\\ipykernel_launcher.py:8: SettingWithCopyWarning: \nA value is trying to be set on a copy of a slice from a DataFrame.\nTry using .loc[row_indexer,col_indexer] = value instead\n\nSee the caveats in the documentation: http://pandas.pydata.org/pandas-docs/stable/indexing.html#indexing-view-versus-copy\n  \nC:\\Users\\yangyujie8\\AppData\\Local\\Programs\\Python\\Python37\\lib\\site-packages\\ipykernel_launcher.py:11: SettingWithCopyWarning: \nA value is trying to be set on a copy of a slice from a DataFrame.\nTry using .loc[row_indexer,col_indexer] = value instead\n\nSee the caveats in the documentation: http://pandas.pydata.org/pandas-docs/stable/indexing.html#indexing-view-versus-copy\n  # This is added back by InteractiveShellApp.init_path()\n"
     ]
    }
   ],
   "source": [
    "c = text_df[text_df.iloc[:, 1] == 'c']\n",
    "c['len'] = [len(k) for k in c['text'].values]\n",
    "\n",
    "js = text_df[text_df.iloc[:, 1] == 'js']\n",
    "js['len'] = [len(k) for k in js['text'].values]\n",
    "\n",
    "java = text_df[text_df.iloc[:, 1] == 'java']\n",
    "java['len'] = [len(k) for k in java['text'].values]\n",
    "\n",
    "py = text_df[text_df.iloc[:, 1] == 'py']\n",
    "py['len'] = [len(k) for k in py['text'].values]"
   ]
  },
  {
   "cell_type": "code",
   "execution_count": 5,
   "metadata": {},
   "outputs": [
    {
     "name": "stdout",
     "output_type": "stream",
     "text": [
      "c 349584 129\njs 3542621 5\njava 141892 837\npy 223054 39\n258 218 13570 486\n250 217 13251 466\n"
     ]
    },
    {
     "name": "stderr",
     "output_type": "stream",
     "text": [
      "C:\\Users\\yangyujie8\\AppData\\Local\\Programs\\Python\\Python37\\lib\\site-packages\\pandas\\core\\computation\\expressions.py:180: UserWarning: evaluating in Python space because the '*' operator is not supported by numexpr for the bool dtype, use '&' instead\n  .format(op=op_str, alt_op=unsupported[op_str]))\n"
     ]
    }
   ],
   "source": [
    "# 去掉text长度100以下和10万以上的样本\n",
    "print('c', max(c['len']), min(c['len']))\n",
    "print('js', max(js['len']), min(js['len']))\n",
    "print('java', max(java['len']), min(java['len']))\n",
    "print('py', max(py['len']), min(py['len']))\n",
    "print(len(c), len(java), len(js), len(py))\n",
    "c = c[(c['len'] >= 100) * (c['len'] <= 100000)]\n",
    "java = java[(java['len'] >= 100) * (java['len'] <= 100000)]\n",
    "js = js[(js['len'] >= 100) * (js['len'] <= 100000)]\n",
    "py = py[(py['len'] >= 100) * (py['len'] <= 100000)]\n",
    "print(len(c), len(java), len(js), len(py))\n"
   ]
  },
  {
   "cell_type": "code",
   "execution_count": 6,
   "metadata": {},
   "outputs": [
    {
     "data": {
      "text/plain": [
       "(array([55., 36., 32., 26., 19., 19., 23., 20., 14., 18., 10., 13.,  8.,\n         7.,  8.,  2.,  3., 11.,  6.,  8.,  3.,  3.,  4.,  3.,  2.,  4.,\n         3.,  3.,  5.,  5.,  2.,  4.,  3.,  2.,  6.,  0.,  0.,  3.,  3.,\n         3.,  4.,  2.,  3.,  3.,  3.,  2.,  1.,  3.,  3.,  2.,  1.,  1.,\n         1.,  0.,  2.,  0.,  0.,  1.,  2.,  0.,  1.,  2.,  1.,  2.,  3.,\n         2.,  0.,  0.,  2.,  1.,  0.,  2.,  0.,  2.,  0.,  2.,  1.,  0.,\n         0.,  2.,  0.,  0.,  0.,  0.,  0.,  1.,  0.,  0.,  0.,  2.,  0.,\n         1.,  1.,  1.,  2.,  0.,  0.,  0.,  1.,  1.]),\n array([  175.  ,  1158.15,  2141.3 ,  3124.45,  4107.6 ,  5090.75,\n         6073.9 ,  7057.05,  8040.2 ,  9023.35, 10006.5 , 10989.65,\n        11972.8 , 12955.95, 13939.1 , 14922.25, 15905.4 , 16888.55,\n        17871.7 , 18854.85, 19838.  , 20821.15, 21804.3 , 22787.45,\n        23770.6 , 24753.75, 25736.9 , 26720.05, 27703.2 , 28686.35,\n        29669.5 , 30652.65, 31635.8 , 32618.95, 33602.1 , 34585.25,\n        35568.4 , 36551.55, 37534.7 , 38517.85, 39501.  , 40484.15,\n        41467.3 , 42450.45, 43433.6 , 44416.75, 45399.9 , 46383.05,\n        47366.2 , 48349.35, 49332.5 , 50315.65, 51298.8 , 52281.95,\n        53265.1 , 54248.25, 55231.4 , 56214.55, 57197.7 , 58180.85,\n        59164.  , 60147.15, 61130.3 , 62113.45, 63096.6 , 64079.75,\n        65062.9 , 66046.05, 67029.2 , 68012.35, 68995.5 , 69978.65,\n        70961.8 , 71944.95, 72928.1 , 73911.25, 74894.4 , 75877.55,\n        76860.7 , 77843.85, 78827.  , 79810.15, 80793.3 , 81776.45,\n        82759.6 , 83742.75, 84725.9 , 85709.05, 86692.2 , 87675.35,\n        88658.5 , 89641.65, 90624.8 , 91607.95, 92591.1 , 93574.25,\n        94557.4 , 95540.55, 96523.7 , 97506.85, 98490.  ]),\n <a list of 100 Patch objects>)"
      ]
     },
     "execution_count": 6,
     "metadata": {},
     "output_type": "execute_result"
    },
    {
     "data": {
      "image/png": "[encoded data removed]",
      "text/plain": [
       "<Figure size 432x288 with 4 Axes>"
      ]
     },
     "metadata": {},
     "output_type": "display_data"
    }
   ],
   "source": [
    "# 做直方图观察样本长度分布\n",
    "tPlot, axes = plt.subplots(nrows=1, ncols=4, sharey=True)\n",
    "tPlot.suptitle('Hists of each type file', fontsize=20)\n",
    "axes[0].hist(c['len'], bins=100)\n",
    "axes[1].hist(js['len'], bins=100)\n",
    "axes[2].hist(java['len'], bins=100)\n",
    "axes[3].hist(py['len'], bins=100)"
   ]
  },
  {
   "cell_type": "code",
   "execution_count": 7,
   "metadata": {},
   "outputs": [
    {
     "name": "stdout",
     "output_type": "stream",
     "text": [
      "501\n12750\n"
     ]
    }
   ],
   "source": [
    "# 其他三种文件分布均类似，但js不一样，所以对js部分做处理，以c的分布为标准，但保留500个样本\n",
    "mx = max(js['len'])\n",
    "mn = min(js['len'])\n",
    "raw_len = len(js)\n",
    "js = js.sample(frac=1)  # 打乱顺序\n",
    "js_new = pd.DataFrame()\n",
    "js_test = pd.DataFrame()\n",
    "x_last = 0\n",
    "for x in range(mn, mx, 10000):\n",
    "    period_len = len(js.iloc[x_last:x, :])\n",
    "    new_len = math.ceil(period_len/raw_len * 500)\n",
    "    jsi = js.iloc[x_last:x, :].iloc[:new_len, :]\n",
    "    jsi_test = js.iloc[x_last:x, :].iloc[new_len:, :]\n",
    "    js_new = pd.concat([js_new, jsi])\n",
    "    js_test = pd.concat([js_test, jsi_test])\n",
    "    x_last = x\n",
    "print(len(js_new))\n",
    "print(len(js_test))"
   ]
  },
  {
   "cell_type": "code",
   "execution_count": 8,
   "metadata": {},
   "outputs": [
    {
     "data": {
      "text/plain": [
       "(array([55., 36., 32., 26., 19., 19., 23., 20., 14., 18., 10., 13.,  8.,\n         7.,  8.,  2.,  3., 11.,  6.,  8.,  3.,  3.,  4.,  3.,  2.,  4.,\n         3.,  3.,  5.,  5.,  2.,  4.,  3.,  2.,  6.,  0.,  0.,  3.,  3.,\n         3.,  4.,  2.,  3.,  3.,  3.,  2.,  1.,  3.,  3.,  2.,  1.,  1.,\n         1.,  0.,  2.,  0.,  0.,  1.,  2.,  0.,  1.,  2.,  1.,  2.,  3.,\n         2.,  0.,  0.,  2.,  1.,  0.,  2.,  0.,  2.,  0.,  2.,  1.,  0.,\n         0.,  2.,  0.,  0.,  0.,  0.,  0.,  1.,  0.,  0.,  0.,  2.,  0.,\n         1.,  1.,  1.,  2.,  0.,  0.,  0.,  1.,  1.]),\n array([  175.  ,  1158.15,  2141.3 ,  3124.45,  4107.6 ,  5090.75,\n         6073.9 ,  7057.05,  8040.2 ,  9023.35, 10006.5 , 10989.65,\n        11972.8 , 12955.95, 13939.1 , 14922.25, 15905.4 , 16888.55,\n        17871.7 , 18854.85, 19838.  , 20821.15, 21804.3 , 22787.45,\n        23770.6 , 24753.75, 25736.9 , 26720.05, 27703.2 , 28686.35,\n        29669.5 , 30652.65, 31635.8 , 32618.95, 33602.1 , 34585.25,\n        35568.4 , 36551.55, 37534.7 , 38517.85, 39501.  , 40484.15,\n        41467.3 , 42450.45, 43433.6 , 44416.75, 45399.9 , 46383.05,\n        47366.2 , 48349.35, 49332.5 , 50315.65, 51298.8 , 52281.95,\n        53265.1 , 54248.25, 55231.4 , 56214.55, 57197.7 , 58180.85,\n        59164.  , 60147.15, 61130.3 , 62113.45, 63096.6 , 64079.75,\n        65062.9 , 66046.05, 67029.2 , 68012.35, 68995.5 , 69978.65,\n        70961.8 , 71944.95, 72928.1 , 73911.25, 74894.4 , 75877.55,\n        76860.7 , 77843.85, 78827.  , 79810.15, 80793.3 , 81776.45,\n        82759.6 , 83742.75, 84725.9 , 85709.05, 86692.2 , 87675.35,\n        88658.5 , 89641.65, 90624.8 , 91607.95, 92591.1 , 93574.25,\n        94557.4 , 95540.55, 96523.7 , 97506.85, 98490.  ]),\n <a list of 100 Patch objects>)"
      ]
     },
     "execution_count": 8,
     "metadata": {},
     "output_type": "execute_result"
    },
    {
     "data": {
      "image/png": "[encoded data removed]",
      "text/plain": [
       "<Figure size 432x288 with 4 Axes>"
      ]
     },
     "metadata": {},
     "output_type": "display_data"
    }
   ],
   "source": [
    "# 再次观察数据分布: js仍然略有偏，但由于原始数据集里根本没有过长的js脚本，无合适的处理办法\n",
    "tPlot, axes = plt.subplots(nrows=1, ncols=4, sharey=True)\n",
    "tPlot.suptitle('Hists of each type file', fontsize=20)\n",
    "axes[0].hist(c['len'], bins=100)\n",
    "axes[1].hist(js_new['len'], bins=100)\n",
    "axes[2].hist(java['len'], bins=100)\n",
    "axes[3].hist(py['len'], bins=100)"
   ]
  },
  {
   "cell_type": "code",
   "execution_count": 48,
   "metadata": {},
   "outputs": [
    {
     "name": "stdout",
     "output_type": "stream",
     "text": [
      "                                                   text type    len\n2607  /* * IRQ offload/bypass manager * * Copyright ...    c   5849\n2610  /* * Copyright (C) 2015, 2016 ARM Ltd. * * Thi...    c  13455\n2614  /* * Copyright (C) 2017 ARM Ltd. * Author: Mar...    c  10305\n2617  /* * Copyright (C) 2009, Steven Rostedt <srost...    c   5572\n2620  /* * Copyright (C) 2009, Steven Rostedt <srost...    c   8572\n                                                   text type    len\n3421  #include <errno.h>#include <stdlib.h>#include ...    c   3759\n3424  /* Copyright (c) 2016,2017 Facebook * * This p...    c   5396\n3427  #include <linux/bpf.h>#include <linux/if_ether...    c   1194\n3430  // SPDX-License-Identifier: GPL-2.0// Copyrigh...    c  19664\n3433  /* Copyright (c) 2017 VMware * * This program ...    c    772\n"
     ]
    }
   ],
   "source": [
    "# 数据集的最终生成 & train、test划分 —— 8:2\n",
    "train_set = pd.concat([c.iloc[:round(len(c)*0.8), :], js_new.iloc[:round(len(js)*0.8), :],\n",
    "                       java.iloc[:round(len(java)*0.8), :], py.iloc[:round(len(py)*0.8), :]])\n",
    "# 20% + js中剩余数据中随便抽取100个作为测试集（如果全部用来测试速度太慢）\n",
    "test_set = pd.concat([c.iloc[round(len(c)*0.8):, :], js_new.iloc[round(len(js)*0.8):, :],\n",
    "                      java.iloc[round(len(java)*0.8):, :], py.iloc[round(len(py)*0.8):, :],\n",
    "                      js_test.iloc[:100, :]])\n",
    "print(train_set.head(5))\n",
    "print(test_set.head(5))\n",
    "# 输出\n",
    "train_set.to_csv('C:/Users/yangyujie8/PycharmProjects'\n",
    "                 '/deep_learning/jianzhi/data/language_classifier_data/train_set.csv')\n",
    "test_set.to_csv('C:/Users/yangyujie8/PycharmProjects'\n",
    "                '/deep_learning/jianzhi/data/language_classifier_data/test_set.csv')"
   ]
  },
  {
   "cell_type": "heading",
   "metadata": {},
   "level": 1,
   "source": [
    "Part 2 Word Cut"
   ]
  },
  {
   "cell_type": "code",
   "execution_count": null,
   "metadata": {},
   "outputs": [],
   "source": [
    "# 分词: 对于编程语言的识别，标点符号反而很重要，比如各语言的注释符号不同，所以分词要小心，不能随便去停用词等\n",
    "train_set = pd.read_csv('C:/Users/yangyujie8/PycharmProjects'\n",
    "                        '/deep_learning/jianzhi/data/language_classifier_data/train_set.csv', index_col=0)\n",
    "train_set['cuted_text'] = word_cut(train_set['text'])\n",
    "train_set.to_csv('C:/Users/yangyujie8/PycharmProjects'\n",
    "                 '/deep_learning/jianzhi/data/language_classifier_data/train_set_cuted.csv')\n",
    "\n",
    "test_set = pd.read_csv('C:/Users/yangyujie8/PycharmProjects'\n",
    "                       '/deep_learning/jianzhi/data/language_classifier_data/test_set.csv', index_col=0)\n",
    "test_set['cuted_text'] = word_cut(test_set['text'])\n",
    "test_set.to_csv('C:/Users/yangyujie8/PycharmProjects'\n",
    "                '/deep_learning/jianzhi/data/language_classifier_data/test_set_cuted.csv')\n"
   ]
  },
  {
   "cell_type": "code",
   "execution_count": null,
   "metadata": {},
   "outputs": [],
   "source": [
    "# 词频统计，过滤低频词 ===================================================================================================\n",
    "train_set = pd.read_csv('C:/Users/yangyujie8/PycharmProjects'\n",
    "                        '/deep_learning/jianzhi/data/language_classifier_data/train_set_cuted.csv', index_col=0)\n",
    "test_set = pd.read_csv('C:/Users/yangyujie8/PycharmProjects'\n",
    "                       '/deep_learning/jianzhi/data/language_classifier_data/test_set_cuted.csv', index_col=0)\n",
    "train_x_count, word_set = one_hot_x(train_set['cuted_text'], ignore_num=1)\n",
    "train_x_count.to_csv('C:/Users/yangyujie8/PycharmProjects'\n",
    "                     '/deep_learning/jianzhi/data/language_classifier_data/train_x_count.csv')\n",
    "test_x_count = one_hot_x(test_set['cuted_text'], word_set=word_set)\n",
    "test_x_count.to_csv('C:/Users/yangyujie8/PycharmProjects'\n",
    "                    '/deep_learning/jianzhi/data/language_classifier_data/test_x_count.csv')\n"
   ]
  },
  {
   "cell_type": "heading",
   "metadata": {},
   "level": 1,
   "source": [
    "\n",
    "Part 3 one-hot + naive bayes"
   ]
  },
  {
   "cell_type": "code",
   "execution_count": 5,
   "metadata": {},
   "outputs": [],
   "source": [
    "train_x_one_hot = copy.deepcopy(train_x_count)\n",
    "train_x_one_hot[train_x_one_hot >= 1] = 1\n",
    "train_x_one_hot = train_x_one_hot.fillna(0)\n",
    "test_x_one_hot = copy.deepcopy(test_x_count)\n",
    "test_x_one_hot[test_x_one_hot >= 1] = 1\n",
    "test_x_one_hot = test_x_one_hot.fillna(0)\n",
    "pred_train_nb, pred_test_nb = naive_bayes(train_x_one_hot, train_set['type'], test_x_one_hot)\n",
    "perfor_train_nb = performance(pred_train_nb, train_set['type'])\n",
    "perfor_test_nb = performance(pred_test_nb, test_set['type'])\n",
    "# 输出为json\n",
    "nb_out = {'insample': perfor_train_nb, 'outsample': perfor_test_nb}\n",
    "f = open('C:/Users/yangyujie8/PycharmProjects/deep_learning/jianzhi/out/language_classifier_out/nb_out.txt', 'w')\n",
    "f.write(json.dumps(nb_out))\n",
    "f.close()"
   ]
  },
  {
   "cell_type": "heading",
   "metadata": {},
   "level": 1,
   "source": [
    "Part 4 word_count/length + PCA + decision tree\n"
   ]
  },
  {
   "cell_type": "code",
   "execution_count": null,
   "metadata": {},
   "outputs": [],
   "source": [
    "\n",
    "train_set['cuted_len'] = [len(i) for i in train_set['cuted_text']]\n",
    "train_x_count_percent = (train_x_count.fillna(0).T/train_set['cuted_len'].values).T\n",
    "test_set['cuted_len'] = [len(i) for i in test_set['cuted_text']]\n",
    "test_x_count_percent = (test_x_count.fillna(0).T/test_set['cuted_len'].values).T\n",
    "# 参数优化\n",
    "keep_vars = [0.7, 0.75, 0.8, 0.85, 0.9, 0.95, 0.98]\n",
    "out_dt_opt = {}\n",
    "for v in keep_vars:\n",
    "    train_x_count_pcai, test_x_count_pcai = pca(train_x_count_percent, test_x_count_percent, keep_var=v)\n",
    "    pred_train_dti, pred_test_dti = decision_tree(train_x_count_pcai, test_x_count_pcai, train_set['type'],\n",
    "                                                  max_d=20, max_f='sqrt')\n",
    "    perfor_train_dti = performance(pred_train_dti, train_set['type'])\n",
    "    perfor_test_dti = performance(pred_test_dti, test_set['type'])\n",
    "    out_dt_opt['keep_val' + str(v)] = 'outsample accu: ' + str(perfor_test_dti['Overall_accuracy'])\n",
    "f = open('C:/Users/yangyujie8/PycharmProjects/deep_learning/jianzhi/out/language_classifier_out/dt_out.txt', 'w')\n",
    "f.write(json.dumps(out_dt_opt))\n",
    "f.close()\n",
    "# 最优参数结果\n",
    "train_x_count_pca, test_x_count_pca = pca(train_x_count_percent, test_x_count_percent, keep_var=0.8)\n",
    "# 决策树预测\n",
    "pred_train_dt, pred_test_dt = decision_tree(train_x_count_pca, test_x_count_pca, train_set['type'],\n",
    "                                            max_d=20, max_f='sqrt')\n",
    "perfor_train_dt = performance(pred_train_dt, train_set['type'])\n",
    "perfor_test_dt = performance(pred_test_dt, test_set['type'])\n",
    "dt_out = {'insample': perfor_train_dt, 'outsample': perfor_test_dt}\n",
    "f = open('C:/Users/yangyujie8/PycharmProjects/deep_learning/jianzhi/out/language_classifier_out/dt_out.txt', 'a')\n",
    "f.write('\\n')\n",
    "f.write(json.dumps(dt_out))\n",
    "f.close()\n"
   ]
  },
  {
   "cell_type": "heading",
   "metadata": {},
   "level": 1,
   "source": [
    "Part 5 word2vec + decision tree\n"
   ]
  },
  {
   "cell_type": "code",
   "execution_count": null,
   "metadata": {},
   "outputs": [],
   "source": [
    "\n",
    "train_set['cut_s'] = word_cut(train_set['text'], out='s')\n",
    "test_set['cut_s'] = word_cut(test_set['text'], out='s')\n",
    "train_x_wv, test_x_wv = word2vec(train_set['cut_s'], test_set['cut_s'], min_count=8, sg=1, vec_size=1000)\n",
    "\n",
    "# 决策树预测\n",
    "pred_train_wvdt, pred_test_wvdt = decision_tree(train_x_wv, test_x_wv, train_set['type'],\n",
    "                                                max_d=50, max_f='sqrt')\n",
    "perfor_train_wvdt = performance(pred_train_wvdt, train_set['type'])\n",
    "perfor_test_wvdt = performance(pred_test_wvdt, test_set['type'])\n",
    "wvdt_out = {'insample': perfor_train_wvdt, 'outsample': perfor_test_wvdt}\n",
    "f = open('C:/Users/yangyujie8/PycharmProjects/deep_learning/jianzhi/out/language_classifier_out/wvdt_out.txt', 'w')\n",
    "f.write(json.dumps(wvdt_out))\n",
    "f.close()\n"
   ]
  }
 ],
 "metadata": {
  "kernelspec": {
   "display_name": "Python 2",
   "language": "python",
   "name": "python2"
  },
  "language_info": {
   "codemirror_mode": {
    "name": "ipython",
    "version": 2
   },
   "file_extension": ".py",
   "mimetype": "text/x-python",
   "name": "python",
   "nbconvert_exporter": "python",
   "pygments_lexer": "ipython2",
   "version": "2.7.6"
  }
 },
 "nbformat": 4,
 "nbformat_minor": 0
}
